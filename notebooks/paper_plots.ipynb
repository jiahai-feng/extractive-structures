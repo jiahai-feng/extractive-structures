{
 "cells": [
  {
   "cell_type": "code",
   "execution_count": 45,
   "id": "b9963377-66c5-4e73-b42b-d3b7d2d136b0",
   "metadata": {},
   "outputs": [],
   "source": [
    "import seaborn as sns\n",
    "import matplotlib.pyplot as plt\n",
    "\n",
    "import torch\n",
    "import numpy as np\n",
    "import xarray as xr\n",
    "from exults.tensorial import Long\n",
    "import json\n",
    "import pandas as pd\n",
    "from transformers import AutoTokenizer\n",
    "import extractive_structures.gradients as pg\n",
    "from extractive_structures import ROOT"
   ]
  },
  {
   "cell_type": "code",
   "execution_count": 46,
   "id": "caf93a88-e703-4a16-8849-40454a475269",
   "metadata": {},
   "outputs": [],
   "source": [
    "sns.set_theme()\n",
    "sns.set(font_scale=0.8)\n",
    "sns.set_style(\"white\")\n",
    "sns.set_style(\"ticks\")"
   ]
  },
  {
   "cell_type": "markdown",
   "id": "deb770af-85c0-4349-a0de-46f52310f648",
   "metadata": {},
   "source": [
    "## Training ranks"
   ]
  },
  {
   "cell_type": "code",
   "execution_count": 54,
   "id": "68e42911-b6f0-4a12-ba62-192520ba2765",
   "metadata": {},
   "outputs": [],
   "source": [
    "with open(ROOT/'results/first_hop_train.json') as f:\n",
    "    first_hop = json.load(f)\n",
    "with open(ROOT/'results/second_hop_train.json') as f:\n",
    "    second_hop = json.load(f)"
   ]
  },
  {
   "cell_type": "code",
   "execution_count": 55,
   "id": "1c03389a-0f16-4641-bf16-b064a070404d",
   "metadata": {},
   "outputs": [],
   "source": [
    "def viz_traj(ax, data, train_name, test_name, title):\n",
    "    df = pd.DataFrame(data).rename(columns={train_name: 'Fact Rank', test_name: 'Implications Rank'})\n",
    "    sns.lineplot(df, x='Fact Rank', y='Implications Rank', ax=ax, estimator=None, sort=False)\n",
    "    ax.set_xlim([-0.5, 10.5])\n",
    "    ax.set_ylim([-0.5, 10.5])\n",
    "    ax.set_xticks([0, 10])\n",
    "    ax.set_yticks([0, 10])\n",
    "    ax.set_title(title)\n",
    "    # ax.xaxis.set_label_coords(0.5, -0.10)"
   ]
  },
  {
   "cell_type": "code",
   "execution_count": 56,
   "id": "f6f67be1-dba9-43ec-8a01-29aee56a9ece",
   "metadata": {},
   "outputs": [],
   "source": [
    "def viz_traj(ax, data, train_name, test_name, title, legend):\n",
    "    df = pd.DataFrame(Long(data).factorize([train_name, test_name], 'metric', 'rank').data)\n",
    "    df = df.assign(metric=df.metric.map(lambda x: {\n",
    "        train_name: 'Train (facts)',\n",
    "        test_name: 'Test (impl.)',\n",
    "    }[x]))\n",
    "    df = df.rename(columns={'rank': 'Rank', 'epoch': 'Epoch'})\n",
    "    sns.lineplot(df, x='Epoch', y='Rank', style='metric', ax=ax, estimator=None, legend=legend)\n",
    "    # ax.set_xlim([-0.5, 11])\n",
    "    ax.set_ylim([-0.5, 11])\n",
    "    ax.set_xticks([0, 8])\n",
    "    ax.set_yticks([0, 10])\n",
    "    ax.set_title(title)\n",
    "    ax.xaxis.set_label_coords(0.5, -0.15)"
   ]
  },
  {
   "cell_type": "code",
   "execution_count": 57,
   "id": "dbba0fff-d9c7-4087-9f98-69ad0ef033b4",
   "metadata": {},
   "outputs": [
    {
     "data": {
      "image/png": "[encoded data removed]",
      "text/plain": [
       "<Figure size 500x175 with 2 Axes>"
      ]
     },
     "metadata": {},
     "output_type": "display_data"
    }
   ],
   "source": [
    "fig, axs = plt.subplots(1, 2, figsize=(5, 1.75))\n",
    "viz_traj(axs[0], first_hop, 'train', 'test', 'FIRST-HOP', False)\n",
    "viz_traj(axs[1], second_hop, 'train', 'test', 'SECOND-HOP', True)\n",
    "axs[1].legend(bbox_to_anchor=(1.01, 0.5), loc='center left', borderaxespad=0.5)\n",
    "axs[1].set_ylabel('')\n",
    "fig.tight_layout()\n",
    "plt.savefig(ROOT / 'figures/twohop_train.pdf', bbox_inches=\"tight\")"
   ]
  },
  {
   "cell_type": "markdown",
   "id": "67fa6010-0e6b-496a-bc8f-43e5a53d30b8",
   "metadata": {},
   "source": [
    "## Extractive scores"
   ]
  },
  {
   "cell_type": "code",
   "execution_count": 58,
   "id": "b080b180-3768-4152-947c-220db0eac773",
   "metadata": {},
   "outputs": [
    {
     "ename": "ModuleNotFoundError",
     "evalue": "No module named 'pretune'",
     "output_type": "error",
     "traceback": [
      "\u001b[31m---------------------------------------------------------------------------\u001b[39m",
      "\u001b[31mModuleNotFoundError\u001b[39m                       Traceback (most recent call last)",
      "\u001b[36mCell\u001b[39m\u001b[36m \u001b[39m\u001b[32mIn[58]\u001b[39m\u001b[32m, line 1\u001b[39m\n\u001b[32m----> \u001b[39m\u001b[32m1\u001b[39m left_es = \u001b[43mtorch\u001b[49m\u001b[43m.\u001b[49m\u001b[43mload\u001b[49m\u001b[43m(\u001b[49m\u001b[43mROOT\u001b[49m\u001b[43m/\u001b[49m\u001b[33;43m'\u001b[39;49m\u001b[33;43mresults/left_extractive_scores.pt\u001b[39;49m\u001b[33;43m'\u001b[39;49m\u001b[43m)\u001b[49m\n\u001b[32m      2\u001b[39m right_es = torch.load(ROOT/\u001b[33m'\u001b[39m\u001b[33mresults/right_extractive_scores.pt\u001b[39m\u001b[33m'\u001b[39m)\n\u001b[32m      5\u001b[39m names = [\u001b[33m'\u001b[39m\u001b[33mUpstream\u001b[39m\u001b[33m'\u001b[39m, \u001b[33m'\u001b[39m\u001b[33mDownstream\u001b[39m\u001b[33m'\u001b[39m, \u001b[33m'\u001b[39m\u001b[33mInformative\u001b[39m\u001b[33m'\u001b[39m]\n",
      "\u001b[36mFile \u001b[39m\u001b[32m/data/fjiahai/extractive_structures/.venv/lib/python3.11/site-packages/torch/serialization.py:1025\u001b[39m, in \u001b[36mload\u001b[39m\u001b[34m(f, map_location, pickle_module, weights_only, mmap, **pickle_load_args)\u001b[39m\n\u001b[32m   1023\u001b[39m             \u001b[38;5;28;01mexcept\u001b[39;00m \u001b[38;5;167;01mRuntimeError\u001b[39;00m \u001b[38;5;28;01mas\u001b[39;00m e:\n\u001b[32m   1024\u001b[39m                 \u001b[38;5;28;01mraise\u001b[39;00m pickle.UnpicklingError(UNSAFE_MESSAGE + \u001b[38;5;28mstr\u001b[39m(e)) \u001b[38;5;28;01mfrom\u001b[39;00m\u001b[38;5;250m \u001b[39m\u001b[38;5;28;01mNone\u001b[39;00m\n\u001b[32m-> \u001b[39m\u001b[32m1025\u001b[39m         \u001b[38;5;28;01mreturn\u001b[39;00m \u001b[43m_load\u001b[49m\u001b[43m(\u001b[49m\u001b[43mopened_zipfile\u001b[49m\u001b[43m,\u001b[49m\n\u001b[32m   1026\u001b[39m \u001b[43m                     \u001b[49m\u001b[43mmap_location\u001b[49m\u001b[43m,\u001b[49m\n\u001b[32m   1027\u001b[39m \u001b[43m                     \u001b[49m\u001b[43mpickle_module\u001b[49m\u001b[43m,\u001b[49m\n\u001b[32m   1028\u001b[39m \u001b[43m                     \u001b[49m\u001b[43moverall_storage\u001b[49m\u001b[43m=\u001b[49m\u001b[43moverall_storage\u001b[49m\u001b[43m,\u001b[49m\n\u001b[32m   1029\u001b[39m \u001b[43m                     \u001b[49m\u001b[43m*\u001b[49m\u001b[43m*\u001b[49m\u001b[43mpickle_load_args\u001b[49m\u001b[43m)\u001b[49m\n\u001b[32m   1030\u001b[39m \u001b[38;5;28;01mif\u001b[39;00m mmap:\n\u001b[32m   1031\u001b[39m     f_name = \u001b[33m\"\u001b[39m\u001b[33m\"\u001b[39m \u001b[38;5;28;01mif\u001b[39;00m \u001b[38;5;129;01mnot\u001b[39;00m \u001b[38;5;28misinstance\u001b[39m(f, \u001b[38;5;28mstr\u001b[39m) \u001b[38;5;28;01melse\u001b[39;00m \u001b[33mf\u001b[39m\u001b[33m\"\u001b[39m\u001b[38;5;132;01m{\u001b[39;00mf\u001b[38;5;132;01m}\u001b[39;00m\u001b[33m, \u001b[39m\u001b[33m\"\u001b[39m\n",
      "\u001b[36mFile \u001b[39m\u001b[32m/data/fjiahai/extractive_structures/.venv/lib/python3.11/site-packages/torch/serialization.py:1446\u001b[39m, in \u001b[36m_load\u001b[39m\u001b[34m(zip_file, map_location, pickle_module, pickle_file, overall_storage, **pickle_load_args)\u001b[39m\n\u001b[32m   1444\u001b[39m unpickler = UnpicklerWrapper(data_file, **pickle_load_args)\n\u001b[32m   1445\u001b[39m unpickler.persistent_load = persistent_load\n\u001b[32m-> \u001b[39m\u001b[32m1446\u001b[39m result = \u001b[43munpickler\u001b[49m\u001b[43m.\u001b[49m\u001b[43mload\u001b[49m\u001b[43m(\u001b[49m\u001b[43m)\u001b[49m\n\u001b[32m   1448\u001b[39m torch._utils._validate_loaded_sparse_tensors()\n\u001b[32m   1449\u001b[39m torch._C._log_api_usage_metadata(\n\u001b[32m   1450\u001b[39m     \u001b[33m\"\u001b[39m\u001b[33mtorch.load.metadata\u001b[39m\u001b[33m\"\u001b[39m, {\u001b[33m\"\u001b[39m\u001b[33mserialization_id\u001b[39m\u001b[33m\"\u001b[39m: zip_file.serialization_id()}\n\u001b[32m   1451\u001b[39m )\n",
      "\u001b[36mFile \u001b[39m\u001b[32m/data/fjiahai/extractive_structures/.venv/lib/python3.11/site-packages/torch/serialization.py:1439\u001b[39m, in \u001b[36m_load.<locals>.UnpicklerWrapper.find_class\u001b[39m\u001b[34m(self, mod_name, name)\u001b[39m\n\u001b[32m   1437\u001b[39m         \u001b[38;5;28;01mpass\u001b[39;00m\n\u001b[32m   1438\u001b[39m mod_name = load_module_mapping.get(mod_name, mod_name)\n\u001b[32m-> \u001b[39m\u001b[32m1439\u001b[39m \u001b[38;5;28;01mreturn\u001b[39;00m \u001b[38;5;28msuper\u001b[39m().find_class(mod_name, name)\n",
      "\u001b[31mModuleNotFoundError\u001b[39m: No module named 'pretune'"
     ]
    }
   ],
   "source": [
    "left_es = torch.load(ROOT/'results/left_extractive_scores.pt')\n",
    "right_es = torch.load(ROOT/'results/right_extractive_scores.pt')\n",
    "\n",
    "\n",
    "names = ['Upstream', 'Downstream', 'Informative']\n",
    "\n",
    "order = [1, 2, 0]\n",
    "\n",
    "def reorder(order, arr):\n",
    "    return [arr[idx] for idx in order]\n",
    "\n",
    "names = reorder(order, names)\n",
    "left_es = reorder(order, left_es)\n",
    "right_es = reorder(order, right_es)\n",
    "def flatten_mlp(mask):\n",
    "    return mask.mlps.cpu().numpy()[0, :, :] # seq, layer\n",
    "def flatten_att(mask):\n",
    "    return mask.attn.cpu().numpy()[0, :, :, :].sum(axis=-1) # seq, layer\n",
    "left_seq = ('The people in the city John Doe is from speak', 'Japanese')\n",
    "right_seq = ('The mayor of the city that contains Tower Bridge is', 'Grace Miller')\n",
    "tokenizer = AutoTokenizer.from_pretrained(\"allenai/OLMo-1.7-7B-hf\")\n",
    "def get_toks(test_pt, in_only=False):\n",
    "    if in_only:\n",
    "        inputs = pg.tokenize_and_mask_batch([test_pt], tokenizer)\n",
    "        toks = inputs['input_ids'][0, inputs['labels'][0] == -100]\n",
    "        return [\n",
    "            tokenizer.decode(tok) \n",
    "            for tok in toks\n",
    "        ]\n",
    "    return [tokenizer.decode(tok) for tok in pg.tokenize_and_mask_batch([test_pt], tokenizer)['input_ids'][0]]\n",
    "left_toks = get_toks(left_seq, True)\n",
    "right_toks = get_toks(right_seq, True)\n",
    "def plot_score(ax, seq, score, x_ticks, y_ticks, vmin, vmax, freeze_zero):\n",
    "    if freeze_zero is not None:\n",
    "        min_constraint = min(0, score.min())\n",
    "        max_constraint = max(0, score.max()) * freeze_zero / (1 - freeze_zero)\n",
    "        abs_constraint = max(min_constraint, max_constraint)\n",
    "        vmin = -abs_constraint\n",
    "        vmax = abs_constraint * (1 - freeze_zero) / freeze_zero\n",
    "    score = score[:len(seq), :]\n",
    "    sns.heatmap(score.T, ax=ax, xticklabels=seq if x_ticks else False, cbar=True, yticklabels=y_ticks, vmin=vmin, vmax=vmax)\n",
    "    if y_ticks:\n",
    "        ax.set_yticks([0.5, 31.5])\n",
    "    ax.invert_yaxis()"
   ]
  },
  {
   "cell_type": "code",
   "execution_count": 59,
   "id": "bdfce710-23e3-457f-bc7a-8a2e619212cd",
   "metadata": {},
   "outputs": [
    {
     "data": {
      "image/png": "[encoded data removed]",
      "text/plain": [
       "<Figure size 800x450 with 24 Axes>"
      ]
     },
     "metadata": {},
     "output_type": "display_data"
    }
   ],
   "source": [
    "vmin, vmax = None, None\n",
    "freeze_zero = 0.2\n",
    "fig, axs = plt.subplots(3, 4, figsize=(8, 4.5))\n",
    "\n",
    "for i in range(3):\n",
    "    plot_score(axs[i, 0], left_toks, flatten_mlp(left_es[i]), i==2, True, vmin, vmax, freeze_zero)\n",
    "    plot_score(axs[i, 1], left_toks, flatten_att(left_es[i]), i==2, False, vmin, vmax, freeze_zero)\n",
    "    \n",
    "    plot_score(axs[i, 2], right_toks, flatten_mlp(right_es[i]), i==2, False, vmin, vmax, freeze_zero)\n",
    "    plot_score(axs[i, 3], right_toks, flatten_att(right_es[i]), i==2, False, vmin, vmax, freeze_zero)\n",
    "    \n",
    "    axs[i, 0].set_ylabel(names[i])\n",
    "for i, name in enumerate(['First-hop MLP', 'First-hop Attn', 'Second-hop MLP', 'Second-hop Attn']):\n",
    "    axs[0, i].set_title(name)\n",
    "fig.tight_layout()\n",
    "fig.subplots_adjust(wspace=0.25, hspace=0.1)\n",
    "plt.savefig(ROOT / 'figures/twohop_extractive_scores.pdf', bbox_inches=\"tight\")"
   ]
  },
  {
   "cell_type": "markdown",
   "id": "7a1641b9-d47b-4718-aae0-172aac3f1f34",
   "metadata": {},
   "source": [
    "## Layer freezing"
   ]
  },
  {
   "cell_type": "code",
   "execution_count": 15,
   "id": "6db96fa9-9550-4afd-94cd-6668c9c0dd46",
   "metadata": {},
   "outputs": [],
   "source": [
    "with open(ROOT / 'results/layer_freezing.json', 'r') as fp:\n",
    "    freeze_results = json.load(fp)"
   ]
  },
  {
   "cell_type": "code",
   "execution_count": 16,
   "id": "439a0653-842c-46b9-9262-69f67d4ade79",
   "metadata": {},
   "outputs": [
    {
     "data": {
      "text/html": [
       "<div>\n",
       "<style scoped>\n",
       "    .dataframe tbody tr th:only-of-type {\n",
       "        vertical-align: middle;\n",
       "    }\n",
       "\n",
       "    .dataframe tbody tr th {\n",
       "        vertical-align: top;\n",
       "    }\n",
       "\n",
       "    .dataframe thead tr th {\n",
       "        text-align: left;\n",
       "    }\n",
       "\n",
       "    .dataframe thead tr:last-of-type th {\n",
       "        text-align: right;\n",
       "    }\n",
       "</style>\n",
       "<table border=\"1\" class=\"dataframe\">\n",
       "  <thead>\n",
       "    <tr>\n",
       "      <th></th>\n",
       "      <th colspan=\"2\" halign=\"left\">train</th>\n",
       "      <th colspan=\"2\" halign=\"left\">test</th>\n",
       "    </tr>\n",
       "    <tr>\n",
       "      <th>dataset</th>\n",
       "      <th>left</th>\n",
       "      <th>right</th>\n",
       "      <th>left</th>\n",
       "      <th>right</th>\n",
       "    </tr>\n",
       "    <tr>\n",
       "      <th>freeze</th>\n",
       "      <th></th>\n",
       "      <th></th>\n",
       "      <th></th>\n",
       "      <th></th>\n",
       "    </tr>\n",
       "  </thead>\n",
       "  <tbody>\n",
       "    <tr>\n",
       "      <th>all</th>\n",
       "      <td>9.70</td>\n",
       "      <td>8.75</td>\n",
       "      <td>9.40</td>\n",
       "      <td>8.55</td>\n",
       "    </tr>\n",
       "    <tr>\n",
       "      <th>early</th>\n",
       "      <td>6.05</td>\n",
       "      <td>0.40</td>\n",
       "      <td>9.10</td>\n",
       "      <td>1.50</td>\n",
       "    </tr>\n",
       "    <tr>\n",
       "      <th>early_pre</th>\n",
       "      <td>0.00</td>\n",
       "      <td>0.00</td>\n",
       "      <td>7.35</td>\n",
       "      <td>0.60</td>\n",
       "    </tr>\n",
       "    <tr>\n",
       "      <th>late</th>\n",
       "      <td>0.00</td>\n",
       "      <td>0.10</td>\n",
       "      <td>0.45</td>\n",
       "      <td>7.25</td>\n",
       "    </tr>\n",
       "    <tr>\n",
       "      <th>late_pre</th>\n",
       "      <td>0.00</td>\n",
       "      <td>0.00</td>\n",
       "      <td>0.25</td>\n",
       "      <td>7.60</td>\n",
       "    </tr>\n",
       "    <tr>\n",
       "      <th>none</th>\n",
       "      <td>0.00</td>\n",
       "      <td>0.00</td>\n",
       "      <td>0.45</td>\n",
       "      <td>1.50</td>\n",
       "    </tr>\n",
       "  </tbody>\n",
       "</table>\n",
       "</div>"
      ],
      "text/plain": [
       "          train        test      \n",
       "dataset    left right  left right\n",
       "freeze                           \n",
       "all        9.70  8.75  9.40  8.55\n",
       "early      6.05  0.40  9.10  1.50\n",
       "early_pre  0.00  0.00  7.35  0.60\n",
       "late       0.00  0.10  0.45  7.25\n",
       "late_pre   0.00  0.00  0.25  7.60\n",
       "none       0.00  0.00  0.45  1.50"
      ]
     },
     "execution_count": 16,
     "metadata": {},
     "output_type": "execute_result"
    }
   ],
   "source": [
    "df = pd.DataFrame(freeze_results).pivot(index='freeze', columns='dataset', values=['train', 'test'])\n",
    "df"
   ]
  },
  {
   "cell_type": "code",
   "execution_count": 153,
   "id": "73134b8c-f3ed-4741-bfb6-d1e05b3b5ee4",
   "metadata": {},
   "outputs": [],
   "source": [
    "from jinja2 import Template"
   ]
  },
  {
   "cell_type": "code",
   "execution_count": 174,
   "id": "60706dd1-393e-40bc-912f-776be07222be",
   "metadata": {},
   "outputs": [],
   "source": [
    "def get_row(freeze_name):\n",
    "    keys = [\n",
    "        ('train', 'left'),\n",
    "        ('test', 'left'),\n",
    "        ('train', 'right'),\n",
    "        ('test', 'right')\n",
    "    ]\n",
    "    return ' & '.join([\n",
    "        f'{df.loc[freeze_name, k]:.2f}'\n",
    "        if df.loc[freeze_name, k] < 2. \n",
    "        else f'\\\\textcolor{{red}}{{{df.loc[freeze_name, k]:.2f}}}'\n",
    "    for k in keys\n",
    "    ])"
   ]
  },
  {
   "cell_type": "code",
   "execution_count": 175,
   "id": "b53e65cb-3a19-4b53-88c1-a5df7e9ea269",
   "metadata": {},
   "outputs": [
    {
     "data": {
      "text/plain": [
       "'\\\\textcolor{red}{9.20} & \\\\textcolor{red}{9.25} & \\\\textcolor{red}{9.10} & \\\\textcolor{red}{9.50}'"
      ]
     },
     "execution_count": 175,
     "metadata": {},
     "output_type": "execute_result"
    }
   ],
   "source": [
    "get_row('all')"
   ]
  },
  {
   "cell_type": "code",
   "execution_count": 176,
   "id": "61a77513-c579-48c2-b6fb-08a6867b0a27",
   "metadata": {},
   "outputs": [],
   "source": [
    "latex = r\"\"\"\n",
    "    \\begin{tabular}{c c c c c}\n",
    "    \\toprule \n",
    "     & \\multicolumn{2}{c}{\\textbf{First-hop}} & \\multicolumn{2}{c}{\\textbf{Second-hop}} \\\\\n",
    "    \\cmidrule(lr){2-3} \\cmidrule(lr){4-5}\n",
    "    \\textbf{Frozen Layers} & Fact & Impl. & Fact & Impl. \\\\\n",
    "    \\midrule \n",
    "    None & {{ get_row('none') }}\\\\\n",
    "    Early & {{ get_row('early') }}\\\\\n",
    "    Late  & {{ get_row('late') }}\\\\\n",
    "    All  & {{ get_row('all') }}\\\\\n",
    "    Early (pre)  & {{ get_row('early_pre') }}\\\\\n",
    "    Late (pre)  & {{ get_row('late_pre') }}\\\\\n",
    "    \\bottomrule\n",
    "    \\end{tabular}\n",
    "\"\"\""
   ]
  },
  {
   "cell_type": "code",
   "execution_count": 177,
   "id": "346b1b2b-cae5-4034-b4d1-8a6f697c6097",
   "metadata": {},
   "outputs": [
    {
     "name": "stdout",
     "output_type": "stream",
     "text": [
      "\n",
      "    \\begin{tabular}{c c c c c}\n",
      "    \\toprule \n",
      "     & \\multicolumn{2}{c}{\\textbf{First-hop}} & \\multicolumn{2}{c}{\\textbf{Second-hop}} \\\\\n",
      "    \\cmidrule(lr){2-3} \\cmidrule(lr){4-5}\n",
      "    \\textbf{Frozen Layers} & Fact & Impl. & Fact & Impl. \\\\\n",
      "    \\midrule \n",
      "    None & 0.00 & 0.00 & 0.00 & 1.80\\\\\n",
      "    Early & \\textcolor{red}{5.10} & \\textcolor{red}{8.40} & 0.95 & 1.85\\\\\n",
      "    Late  & 0.00 & 0.00 & 0.10 & \\textcolor{red}{6.30}\\\\\n",
      "    All  & \\textcolor{red}{9.20} & \\textcolor{red}{9.25} & \\textcolor{red}{9.10} & \\textcolor{red}{9.50}\\\\\n",
      "    Early (pre)  & 0.00 & \\textcolor{red}{6.50} & 0.00 & 0.50\\\\\n",
      "    Late (pre)  & 0.00 & 0.10 & 0.00 & \\textcolor{red}{6.60}\\\\\n",
      "    \\bottomrule\n",
      "    \\end{tabular}\n"
     ]
    }
   ],
   "source": [
    "print(Template(latex).render(get_row=get_row))"
   ]
  },
  {
   "cell_type": "markdown",
   "id": "64727225-c26f-437b-9173-4b5128d7f48b",
   "metadata": {},
   "source": [
    "## Data ordering"
   ]
  },
  {
   "cell_type": "code",
   "execution_count": 17,
   "id": "d101b128-8958-429c-b890-624309b11c47",
   "metadata": {},
   "outputs": [],
   "source": [
    "with open(ROOT /'results/data_ordering_logs.json', 'r') as fp:\n",
    "    all_logs = json.load(fp)"
   ]
  },
  {
   "cell_type": "code",
   "execution_count": 18,
   "id": "541624cd-c92f-4d03-88f7-901d2bd15601",
   "metadata": {},
   "outputs": [],
   "source": [
    "long_logs = Long(sum([\n",
    "    (\n",
    "        Long(d['train']).attach(order=d['order'], time='train').data +\n",
    "        Long(d['test']).attach(order=d['order'], time='test').data\n",
    "    )\n",
    "    for d in all_logs\n",
    "], []))"
   ]
  },
  {
   "cell_type": "code",
   "execution_count": 19,
   "id": "d440138c-0678-470c-a0c4-0b8e697cf141",
   "metadata": {},
   "outputs": [],
   "source": [
    "train_df = long_logs.get_all(time='train')\n",
    "test_df = long_logs.get_all(time='test')"
   ]
  },
  {
   "cell_type": "code",
   "execution_count": 20,
   "id": "f5b7d52c-98a4-403a-bd23-67033aa09101",
   "metadata": {},
   "outputs": [],
   "source": [
    "def viz_traj(ax, data, train_name, test_name, title, legend):\n",
    "    df = pd.DataFrame(data).rename(columns={train_name: 'Fact Rank', test_name: 'Implications Rank'})\n",
    "    df['order'] = df['order'].replace(['joint', 'left_first', 'both_first'], ['Joint', 'Facts first', 'Impl. first'])\n",
    "    sns.lineplot(df, x='Fact Rank', y='Implications Rank', hue='order', ax=ax, sort=False, estimator=None, legend=legend)\n",
    "    ax.set_xlim([-0.5, 11])\n",
    "    ax.set_ylim([-0.5, 11])\n",
    "    ax.set_xticks([0, 10])\n",
    "    ax.set_yticks([0, 10])\n",
    "    ax.set_title(title)"
   ]
  },
  {
   "cell_type": "code",
   "execution_count": 21,
   "id": "0417932e-9e98-4da6-a329-2eaacf201f3f",
   "metadata": {},
   "outputs": [],
   "source": [
    "def viz_traj(ax, data, train_name, test_name, title, legend):\n",
    "    df = pd.DataFrame(Long(data).factorize(['left', 'both'], 'metric', 'rank').data)\n",
    "    df['order'] = df['order'].replace(['joint', 'left_first', 'both_first'], ['Joint', 'Facts first', 'Impl. first'])\n",
    "    df['metric'] = df['metric'].replace(['left', 'both'], ['Facts', 'Impl.'])\n",
    "    df = df.rename(columns={'order': 'Order', 'metric': 'Metric', 'epoch': 'Epoch', 'rank': 'Rank'})\n",
    "    sns.lineplot(df, x='Epoch', y='Rank', style='Metric', hue='Order', ax=ax, estimator=None, legend=legend)\n",
    "    ax.set_ylim([-0.5, 11])\n",
    "    ax.set_xticks([0, 8])\n",
    "    ax.set_yticks([0, 10])\n",
    "    ax.set_title(title)\n",
    "    ax.xaxis.set_label_coords(0.5, -0.15)"
   ]
  },
  {
   "cell_type": "code",
   "execution_count": 22,
   "id": "d868026c-78cd-4df2-92a7-8c9268a9e344",
   "metadata": {},
   "outputs": [],
   "source": [
    "epochs = len(train_df.get_all(order='joint')) - 1"
   ]
  },
  {
   "cell_type": "code",
   "execution_count": 23,
   "id": "8a8ad651-ea61-46b5-b655-f3aac5661223",
   "metadata": {},
   "outputs": [],
   "source": [
    "squashed_epochs = np.linspace(0, epochs/2, epochs+1).tolist() + np.linspace(epochs/2, epochs, epochs+1).tolist()\n",
    "train_df = Long(\n",
    "    train_df.get_all(order='joint').data +\n",
    "    train_df.get_all(order='left_first').insert_col('epoch', squashed_epochs).data + \n",
    "    train_df.get_all(order='both_first').insert_col('epoch', squashed_epochs).data\n",
    ")"
   ]
  },
  {
   "cell_type": "code",
   "execution_count": 24,
   "id": "16a7f614-e75b-4d90-9053-e7ee34d58683",
   "metadata": {},
   "outputs": [
    {
     "data": {
      "image/png": "[encoded data removed]",
      "text/plain": [
       "<Figure size 500x175 with 2 Axes>"
      ]
     },
     "metadata": {},
     "output_type": "display_data"
    }
   ],
   "source": [
    "\n",
    "\n",
    "fig, axs = plt.subplots(1, 2, figsize=(5, 1.75))\n",
    "viz_traj(axs[0], train_df.data, 'left', 'both', 'Train', False)\n",
    "viz_traj(axs[1], test_df.data, 'left', 'both', 'Finetune', True)\n",
    "axs[1].legend(bbox_to_anchor=(1.01, 0.5), loc='center left', borderaxespad=0.5)\n",
    "axs[1].set_ylabel('')\n",
    "fig.tight_layout()\n",
    "plt.savefig(ROOT / 'figures/data_ordering.pdf', bbox_inches=\"tight\")"
   ]
  },
  {
   "cell_type": "markdown",
   "id": "a77f6d6a-8668-4b57-80cb-28c735a0f36d",
   "metadata": {},
   "source": [
    "## Grafting"
   ]
  },
  {
   "cell_type": "code",
   "execution_count": 25,
   "id": "29509682-62a7-411c-adf3-2304eabd4a80",
   "metadata": {},
   "outputs": [],
   "source": [
    "with open(ROOT / 'results/grafting.json', 'r') as fp:\n",
    "    results = json.load(fp)"
   ]
  },
  {
   "cell_type": "code",
   "execution_count": 26,
   "id": "e1170955-103a-4bf9-8782-42a5f60a294e",
   "metadata": {},
   "outputs": [
    {
     "data": {
      "text/html": [
       "<div><svg style=\"position: absolute; width: 0; height: 0; overflow: hidden\">\n",
       "<defs>\n",
       "<symbol id=\"icon-database\" viewBox=\"0 0 32 32\">\n",
       "<path d=\"M16 0c-8.837 0-16 2.239-16 5v4c0 2.761 7.163 5 16 5s16-2.239 16-5v-4c0-2.761-7.163-5-16-5z\"></path>\n",
       "<path d=\"M16 17c-8.837 0-16-2.239-16-5v6c0 2.761 7.163 5 16 5s16-2.239 16-5v-6c0 2.761-7.163 5-16 5z\"></path>\n",
       "<path d=\"M16 26c-8.837 0-16-2.239-16-5v6c0 2.761 7.163 5 16 5s16-2.239 16-5v-6c0 2.761-7.163 5-16 5z\"></path>\n",
       "</symbol>\n",
       "<symbol id=\"icon-file-text2\" viewBox=\"0 0 32 32\">\n",
       "<path d=\"M28.681 7.159c-0.694-0.947-1.662-2.053-2.724-3.116s-2.169-2.030-3.116-2.724c-1.612-1.182-2.393-1.319-2.841-1.319h-15.5c-1.378 0-2.5 1.121-2.5 2.5v27c0 1.378 1.122 2.5 2.5 2.5h23c1.378 0 2.5-1.122 2.5-2.5v-19.5c0-0.448-0.137-1.23-1.319-2.841zM24.543 5.457c0.959 0.959 1.712 1.825 2.268 2.543h-4.811v-4.811c0.718 0.556 1.584 1.309 2.543 2.268zM28 29.5c0 0.271-0.229 0.5-0.5 0.5h-23c-0.271 0-0.5-0.229-0.5-0.5v-27c0-0.271 0.229-0.5 0.5-0.5 0 0 15.499-0 15.5 0v7c0 0.552 0.448 1 1 1h7v19.5z\"></path>\n",
       "<path d=\"M23 26h-14c-0.552 0-1-0.448-1-1s0.448-1 1-1h14c0.552 0 1 0.448 1 1s-0.448 1-1 1z\"></path>\n",
       "<path d=\"M23 22h-14c-0.552 0-1-0.448-1-1s0.448-1 1-1h14c0.552 0 1 0.448 1 1s-0.448 1-1 1z\"></path>\n",
       "<path d=\"M23 18h-14c-0.552 0-1-0.448-1-1s0.448-1 1-1h14c0.552 0 1 0.448 1 1s-0.448 1-1 1z\"></path>\n",
       "</symbol>\n",
       "</defs>\n",
       "</svg>\n",
       "<style>/* CSS stylesheet for displaying xarray objects in jupyterlab.\n",
       " *\n",
       " */\n",
       "\n",
       ":root {\n",
       "  --xr-font-color0: var(--jp-content-font-color0, rgba(0, 0, 0, 1));\n",
       "  --xr-font-color2: var(--jp-content-font-color2, rgba(0, 0, 0, 0.54));\n",
       "  --xr-font-color3: var(--jp-content-font-color3, rgba(0, 0, 0, 0.38));\n",
       "  --xr-border-color: var(--jp-border-color2, #e0e0e0);\n",
       "  --xr-disabled-color: var(--jp-layout-color3, #bdbdbd);\n",
       "  --xr-background-color: var(--jp-layout-color0, white);\n",
       "  --xr-background-color-row-even: var(--jp-layout-color1, white);\n",
       "  --xr-background-color-row-odd: var(--jp-layout-color2, #eeeeee);\n",
       "}\n",
       "\n",
       "html[theme=\"dark\"],\n",
       "html[data-theme=\"dark\"],\n",
       "body[data-theme=\"dark\"],\n",
       "body.vscode-dark {\n",
       "  --xr-font-color0: rgba(255, 255, 255, 1);\n",
       "  --xr-font-color2: rgba(255, 255, 255, 0.54);\n",
       "  --xr-font-color3: rgba(255, 255, 255, 0.38);\n",
       "  --xr-border-color: #1f1f1f;\n",
       "  --xr-disabled-color: #515151;\n",
       "  --xr-background-color: #111111;\n",
       "  --xr-background-color-row-even: #111111;\n",
       "  --xr-background-color-row-odd: #313131;\n",
       "}\n",
       "\n",
       ".xr-wrap {\n",
       "  display: block !important;\n",
       "  min-width: 300px;\n",
       "  max-width: 700px;\n",
       "}\n",
       "\n",
       ".xr-text-repr-fallback {\n",
       "  /* fallback to plain text repr when CSS is not injected (untrusted notebook) */\n",
       "  display: none;\n",
       "}\n",
       "\n",
       ".xr-header {\n",
       "  padding-top: 6px;\n",
       "  padding-bottom: 6px;\n",
       "  margin-bottom: 4px;\n",
       "  border-bottom: solid 1px var(--xr-border-color);\n",
       "}\n",
       "\n",
       ".xr-header > div,\n",
       ".xr-header > ul {\n",
       "  display: inline;\n",
       "  margin-top: 0;\n",
       "  margin-bottom: 0;\n",
       "}\n",
       "\n",
       ".xr-obj-type,\n",
       ".xr-array-name {\n",
       "  margin-left: 2px;\n",
       "  margin-right: 10px;\n",
       "}\n",
       "\n",
       ".xr-obj-type {\n",
       "  color: var(--xr-font-color2);\n",
       "}\n",
       "\n",
       ".xr-sections {\n",
       "  padding-left: 0 !important;\n",
       "  display: grid;\n",
       "  grid-template-columns: 150px auto auto 1fr 0 20px 0 20px;\n",
       "}\n",
       "\n",
       ".xr-section-item {\n",
       "  display: contents;\n",
       "}\n",
       "\n",
       ".xr-section-item input {\n",
       "  display: inline-block;\n",
       "  opacity: 0;\n",
       "  height: 0;\n",
       "}\n",
       "\n",
       ".xr-section-item input + label {\n",
       "  color: var(--xr-disabled-color);\n",
       "}\n",
       "\n",
       ".xr-section-item input:enabled + label {\n",
       "  cursor: pointer;\n",
       "  color: var(--xr-font-color2);\n",
       "}\n",
       "\n",
       ".xr-section-item input:focus + label {\n",
       "  border: 2px solid var(--xr-font-color0);\n",
       "}\n",
       "\n",
       ".xr-section-item input:enabled + label:hover {\n",
       "  color: var(--xr-font-color0);\n",
       "}\n",
       "\n",
       ".xr-section-summary {\n",
       "  grid-column: 1;\n",
       "  color: var(--xr-font-color2);\n",
       "  font-weight: 500;\n",
       "}\n",
       "\n",
       ".xr-section-summary > span {\n",
       "  display: inline-block;\n",
       "  padding-left: 0.5em;\n",
       "}\n",
       "\n",
       ".xr-section-summary-in:disabled + label {\n",
       "  color: var(--xr-font-color2);\n",
       "}\n",
       "\n",
       ".xr-section-summary-in + label:before {\n",
       "  display: inline-block;\n",
       "  content: \"►\";\n",
       "  font-size: 11px;\n",
       "  width: 15px;\n",
       "  text-align: center;\n",
       "}\n",
       "\n",
       ".xr-section-summary-in:disabled + label:before {\n",
       "  color: var(--xr-disabled-color);\n",
       "}\n",
       "\n",
       ".xr-section-summary-in:checked + label:before {\n",
       "  content: \"▼\";\n",
       "}\n",
       "\n",
       ".xr-section-summary-in:checked + label > span {\n",
       "  display: none;\n",
       "}\n",
       "\n",
       ".xr-section-summary,\n",
       ".xr-section-inline-details {\n",
       "  padding-top: 4px;\n",
       "  padding-bottom: 4px;\n",
       "}\n",
       "\n",
       ".xr-section-inline-details {\n",
       "  grid-column: 2 / -1;\n",
       "}\n",
       "\n",
       ".xr-section-details {\n",
       "  display: none;\n",
       "  grid-column: 1 / -1;\n",
       "  margin-bottom: 5px;\n",
       "}\n",
       "\n",
       ".xr-section-summary-in:checked ~ .xr-section-details {\n",
       "  display: contents;\n",
       "}\n",
       "\n",
       ".xr-array-wrap {\n",
       "  grid-column: 1 / -1;\n",
       "  display: grid;\n",
       "  grid-template-columns: 20px auto;\n",
       "}\n",
       "\n",
       ".xr-array-wrap > label {\n",
       "  grid-column: 1;\n",
       "  vertical-align: top;\n",
       "}\n",
       "\n",
       ".xr-preview {\n",
       "  color: var(--xr-font-color3);\n",
       "}\n",
       "\n",
       ".xr-array-preview,\n",
       ".xr-array-data {\n",
       "  padding: 0 5px !important;\n",
       "  grid-column: 2;\n",
       "}\n",
       "\n",
       ".xr-array-data,\n",
       ".xr-array-in:checked ~ .xr-array-preview {\n",
       "  display: none;\n",
       "}\n",
       "\n",
       ".xr-array-in:checked ~ .xr-array-data,\n",
       ".xr-array-preview {\n",
       "  display: inline-block;\n",
       "}\n",
       "\n",
       ".xr-dim-list {\n",
       "  display: inline-block !important;\n",
       "  list-style: none;\n",
       "  padding: 0 !important;\n",
       "  margin: 0;\n",
       "}\n",
       "\n",
       ".xr-dim-list li {\n",
       "  display: inline-block;\n",
       "  padding: 0;\n",
       "  margin: 0;\n",
       "}\n",
       "\n",
       ".xr-dim-list:before {\n",
       "  content: \"(\";\n",
       "}\n",
       "\n",
       ".xr-dim-list:after {\n",
       "  content: \")\";\n",
       "}\n",
       "\n",
       ".xr-dim-list li:not(:last-child):after {\n",
       "  content: \",\";\n",
       "  padding-right: 5px;\n",
       "}\n",
       "\n",
       ".xr-has-index {\n",
       "  font-weight: bold;\n",
       "}\n",
       "\n",
       ".xr-var-list,\n",
       ".xr-var-item {\n",
       "  display: contents;\n",
       "}\n",
       "\n",
       ".xr-var-item > div,\n",
       ".xr-var-item label,\n",
       ".xr-var-item > .xr-var-name span {\n",
       "  background-color: var(--xr-background-color-row-even);\n",
       "  margin-bottom: 0;\n",
       "}\n",
       "\n",
       ".xr-var-item > .xr-var-name:hover span {\n",
       "  padding-right: 5px;\n",
       "}\n",
       "\n",
       ".xr-var-list > li:nth-child(odd) > div,\n",
       ".xr-var-list > li:nth-child(odd) > label,\n",
       ".xr-var-list > li:nth-child(odd) > .xr-var-name span {\n",
       "  background-color: var(--xr-background-color-row-odd);\n",
       "}\n",
       "\n",
       ".xr-var-name {\n",
       "  grid-column: 1;\n",
       "}\n",
       "\n",
       ".xr-var-dims {\n",
       "  grid-column: 2;\n",
       "}\n",
       "\n",
       ".xr-var-dtype {\n",
       "  grid-column: 3;\n",
       "  text-align: right;\n",
       "  color: var(--xr-font-color2);\n",
       "}\n",
       "\n",
       ".xr-var-preview {\n",
       "  grid-column: 4;\n",
       "}\n",
       "\n",
       ".xr-index-preview {\n",
       "  grid-column: 2 / 5;\n",
       "  color: var(--xr-font-color2);\n",
       "}\n",
       "\n",
       ".xr-var-name,\n",
       ".xr-var-dims,\n",
       ".xr-var-dtype,\n",
       ".xr-preview,\n",
       ".xr-attrs dt {\n",
       "  white-space: nowrap;\n",
       "  overflow: hidden;\n",
       "  text-overflow: ellipsis;\n",
       "  padding-right: 10px;\n",
       "}\n",
       "\n",
       ".xr-var-name:hover,\n",
       ".xr-var-dims:hover,\n",
       ".xr-var-dtype:hover,\n",
       ".xr-attrs dt:hover {\n",
       "  overflow: visible;\n",
       "  width: auto;\n",
       "  z-index: 1;\n",
       "}\n",
       "\n",
       ".xr-var-attrs,\n",
       ".xr-var-data,\n",
       ".xr-index-data {\n",
       "  display: none;\n",
       "  background-color: var(--xr-background-color) !important;\n",
       "  padding-bottom: 5px !important;\n",
       "}\n",
       "\n",
       ".xr-var-attrs-in:checked ~ .xr-var-attrs,\n",
       ".xr-var-data-in:checked ~ .xr-var-data,\n",
       ".xr-index-data-in:checked ~ .xr-index-data {\n",
       "  display: block;\n",
       "}\n",
       "\n",
       ".xr-var-data > table {\n",
       "  float: right;\n",
       "}\n",
       "\n",
       ".xr-var-name span,\n",
       ".xr-var-data,\n",
       ".xr-index-name div,\n",
       ".xr-index-data,\n",
       ".xr-attrs {\n",
       "  padding-left: 25px !important;\n",
       "}\n",
       "\n",
       ".xr-attrs,\n",
       ".xr-var-attrs,\n",
       ".xr-var-data,\n",
       ".xr-index-data {\n",
       "  grid-column: 1 / -1;\n",
       "}\n",
       "\n",
       "dl.xr-attrs {\n",
       "  padding: 0;\n",
       "  margin: 0;\n",
       "  display: grid;\n",
       "  grid-template-columns: 125px auto;\n",
       "}\n",
       "\n",
       ".xr-attrs dt,\n",
       ".xr-attrs dd {\n",
       "  padding: 0;\n",
       "  margin: 0;\n",
       "  float: left;\n",
       "  padding-right: 10px;\n",
       "  width: auto;\n",
       "}\n",
       "\n",
       ".xr-attrs dt {\n",
       "  font-weight: normal;\n",
       "  grid-column: 1;\n",
       "}\n",
       "\n",
       ".xr-attrs dt:hover span {\n",
       "  display: inline-block;\n",
       "  background: var(--xr-background-color);\n",
       "  padding-right: 10px;\n",
       "}\n",
       "\n",
       ".xr-attrs dd {\n",
       "  grid-column: 2;\n",
       "  white-space: pre-wrap;\n",
       "  word-break: break-all;\n",
       "}\n",
       "\n",
       ".xr-icon-database,\n",
       ".xr-icon-file-text2,\n",
       ".xr-no-icon {\n",
       "  display: inline-block;\n",
       "  vertical-align: middle;\n",
       "  width: 1em;\n",
       "  height: 1.5em !important;\n",
       "  stroke-width: 0;\n",
       "  stroke: currentColor;\n",
       "  fill: currentColor;\n",
       "}\n",
       "</style><pre class='xr-text-repr-fallback'>&lt;xarray.DataArray &#x27;value&#x27; (name: 3, metric: 4)&gt; Size: 96B\n",
       "array([[8.54761905, 9.11904762, 8.91666667, 0.        ],\n",
       "       [3.30952381, 1.13095238, 8.4047619 , 0.08333333],\n",
       "       [0.42857143, 8.41666667, 9.19047619, 0.32142857]])\n",
       "Coordinates:\n",
       "  * name     (name) &lt;U16 192B &#x27;left_2&#x27; &#x27;left_2_graft&#x27; &#x27;left_2_graft_bad&#x27;\n",
       "  * metric   (metric) &lt;U6 96B &#x27;both_1&#x27; &#x27;both_2&#x27; &#x27;left_1&#x27; &#x27;left_2&#x27;</pre><div class='xr-wrap' style='display:none'><div class='xr-header'><div class='xr-obj-type'>xarray.DataArray</div><div class='xr-array-name'>'value'</div><ul class='xr-dim-list'><li><span class='xr-has-index'>name</span>: 3</li><li><span class='xr-has-index'>metric</span>: 4</li></ul></div><ul class='xr-sections'><li class='xr-section-item'><div class='xr-array-wrap'><input id='section-5bd48b94-5cda-4b64-87ce-37908fdc0cb6' class='xr-array-in' type='checkbox' checked><label for='section-5bd48b94-5cda-4b64-87ce-37908fdc0cb6' title='Show/hide data repr'><svg class='icon xr-icon-database'><use xlink:href='#icon-database'></use></svg></label><div class='xr-array-preview xr-preview'><span>8.548 9.119 8.917 0.0 3.31 1.131 ... 0.08333 0.4286 8.417 9.19 0.3214</span></div><div class='xr-array-data'><pre>array([[8.54761905, 9.11904762, 8.91666667, 0.        ],\n",
       "       [3.30952381, 1.13095238, 8.4047619 , 0.08333333],\n",
       "       [0.42857143, 8.41666667, 9.19047619, 0.32142857]])</pre></div></div></li><li class='xr-section-item'><input id='section-4b26f55b-d87e-4634-acd8-bc2b60d4b0e4' class='xr-section-summary-in' type='checkbox'  checked><label for='section-4b26f55b-d87e-4634-acd8-bc2b60d4b0e4' class='xr-section-summary' >Coordinates: <span>(2)</span></label><div class='xr-section-inline-details'></div><div class='xr-section-details'><ul class='xr-var-list'><li class='xr-var-item'><div class='xr-var-name'><span class='xr-has-index'>name</span></div><div class='xr-var-dims'>(name)</div><div class='xr-var-dtype'>&lt;U16</div><div class='xr-var-preview xr-preview'>&#x27;left_2&#x27; ... &#x27;left_2_graft_bad&#x27;</div><input id='attrs-1a62c4be-8240-4038-9473-8788c107235c' class='xr-var-attrs-in' type='checkbox' disabled><label for='attrs-1a62c4be-8240-4038-9473-8788c107235c' title='Show/Hide attributes'><svg class='icon xr-icon-file-text2'><use xlink:href='#icon-file-text2'></use></svg></label><input id='data-735e939d-9f1d-420b-b8cd-e755366bdd63' class='xr-var-data-in' type='checkbox'><label for='data-735e939d-9f1d-420b-b8cd-e755366bdd63' title='Show/Hide data repr'><svg class='icon xr-icon-database'><use xlink:href='#icon-database'></use></svg></label><div class='xr-var-attrs'><dl class='xr-attrs'></dl></div><div class='xr-var-data'><pre>array([&#x27;left_2&#x27;, &#x27;left_2_graft&#x27;, &#x27;left_2_graft_bad&#x27;], dtype=&#x27;&lt;U16&#x27;)</pre></div></li><li class='xr-var-item'><div class='xr-var-name'><span class='xr-has-index'>metric</span></div><div class='xr-var-dims'>(metric)</div><div class='xr-var-dtype'>&lt;U6</div><div class='xr-var-preview xr-preview'>&#x27;both_1&#x27; &#x27;both_2&#x27; &#x27;left_1&#x27; &#x27;left_2&#x27;</div><input id='attrs-37967dea-b43b-45fb-a6e8-46b25b016799' class='xr-var-attrs-in' type='checkbox' disabled><label for='attrs-37967dea-b43b-45fb-a6e8-46b25b016799' title='Show/Hide attributes'><svg class='icon xr-icon-file-text2'><use xlink:href='#icon-file-text2'></use></svg></label><input id='data-04c5b050-0a0d-42c1-bbb2-5aa2426fc01a' class='xr-var-data-in' type='checkbox'><label for='data-04c5b050-0a0d-42c1-bbb2-5aa2426fc01a' title='Show/Hide data repr'><svg class='icon xr-icon-database'><use xlink:href='#icon-database'></use></svg></label><div class='xr-var-attrs'><dl class='xr-attrs'></dl></div><div class='xr-var-data'><pre>array([&#x27;both_1&#x27;, &#x27;both_2&#x27;, &#x27;left_1&#x27;, &#x27;left_2&#x27;], dtype=&#x27;&lt;U6&#x27;)</pre></div></li></ul></div></li><li class='xr-section-item'><input id='section-0659a867-4523-4d7a-b7da-4dbf6327f6bc' class='xr-section-summary-in' type='checkbox'  ><label for='section-0659a867-4523-4d7a-b7da-4dbf6327f6bc' class='xr-section-summary' >Indexes: <span>(2)</span></label><div class='xr-section-inline-details'></div><div class='xr-section-details'><ul class='xr-var-list'><li class='xr-var-item'><div class='xr-index-name'><div>name</div></div><div class='xr-index-preview'>PandasIndex</div><input type='checkbox' disabled/><label></label><input id='index-cfeb9e3f-af8c-4a75-b6d7-238ba2ae85f6' class='xr-index-data-in' type='checkbox'/><label for='index-cfeb9e3f-af8c-4a75-b6d7-238ba2ae85f6' title='Show/Hide index repr'><svg class='icon xr-icon-database'><use xlink:href='#icon-database'></use></svg></label><div class='xr-index-data'><pre>PandasIndex(Index([&#x27;left_2&#x27;, &#x27;left_2_graft&#x27;, &#x27;left_2_graft_bad&#x27;], dtype=&#x27;object&#x27;, name=&#x27;name&#x27;))</pre></div></li><li class='xr-var-item'><div class='xr-index-name'><div>metric</div></div><div class='xr-index-preview'>PandasIndex</div><input type='checkbox' disabled/><label></label><input id='index-8a9a997e-b588-451a-b29b-66c6637b16f9' class='xr-index-data-in' type='checkbox'/><label for='index-8a9a997e-b588-451a-b29b-66c6637b16f9' title='Show/Hide index repr'><svg class='icon xr-icon-database'><use xlink:href='#icon-database'></use></svg></label><div class='xr-index-data'><pre>PandasIndex(Index([&#x27;both_1&#x27;, &#x27;both_2&#x27;, &#x27;left_1&#x27;, &#x27;left_2&#x27;], dtype=&#x27;object&#x27;, name=&#x27;metric&#x27;))</pre></div></li></ul></div></li><li class='xr-section-item'><input id='section-6b430e2e-373f-4b89-8a44-db0d2734c8e2' class='xr-section-summary-in' type='checkbox' disabled ><label for='section-6b430e2e-373f-4b89-8a44-db0d2734c8e2' class='xr-section-summary'  title='Expand/collapse section'>Attributes: <span>(0)</span></label><div class='xr-section-inline-details'></div><div class='xr-section-details'><dl class='xr-attrs'></dl></div></li></ul></div></div>"
      ],
      "text/plain": [
       "<xarray.DataArray 'value' (name: 3, metric: 4)> Size: 96B\n",
       "array([[8.54761905, 9.11904762, 8.91666667, 0.        ],\n",
       "       [3.30952381, 1.13095238, 8.4047619 , 0.08333333],\n",
       "       [0.42857143, 8.41666667, 9.19047619, 0.32142857]])\n",
       "Coordinates:\n",
       "  * name     (name) <U16 192B 'left_2' 'left_2_graft' 'left_2_graft_bad'\n",
       "  * metric   (metric) <U6 96B 'both_1' 'both_2' 'left_1' 'left_2'"
      ]
     },
     "execution_count": 26,
     "metadata": {},
     "output_type": "execute_result"
    }
   ],
   "source": [
    "arr = Long(results).to_data_array(['name', 'metric'], 'value')\n",
    "arr"
   ]
  },
  {
   "cell_type": "code",
   "execution_count": 245,
   "id": "2e7bf9c4-8128-40b7-804f-28684f929184",
   "metadata": {},
   "outputs": [],
   "source": [
    "def get_row(name):\n",
    "    return ' & '.join([\n",
    "        f'{arr.sel(name=name, metric=metric):.2f}'\n",
    "        for metric in ['both_2', 'both_1', 'left_2']\n",
    "    ])"
   ]
  },
  {
   "cell_type": "code",
   "execution_count": 27,
   "id": "d13ee248-19f2-4203-afa9-2c78b3212104",
   "metadata": {},
   "outputs": [],
   "source": [
    "template = r\"\"\"\n",
    "\n",
    "    \\begin{tabular}{c c c c}\n",
    "    \\toprule \n",
    "    \\textbf{Weights} & $\\impl \\facts F'$ & $\\impl \\facts F$ & $\\facts F'$ \\\\\n",
    "    \\midrule\n",
    "     $\\weights_{\\facts F'}$ & {{ get_row('left_2') }}\\\\\n",
    "    $\\weights_{\\facts F'} + \\weights_{\\facts F,\\impl \\facts F} - \\weights_{\\facts F}$ & {{ get_row('left_2_graft') }}\\\\\n",
    "    $\\weights_{\\facts F'} + \\weights_{\\impl \\facts F} - \\weights$& {{ get_row('left_2_graft_bad') }} \\\\\n",
    "    \n",
    "    \\midrule\n",
    "    \\bottomrule\n",
    "    \\end{tabular}\n",
    "\"\"\""
   ]
  },
  {
   "cell_type": "code",
   "execution_count": 28,
   "id": "8e2cd3b5-c2ba-4d6d-963d-7a86dfa644ef",
   "metadata": {},
   "outputs": [
    {
     "ename": "NameError",
     "evalue": "name 'Template' is not defined",
     "output_type": "error",
     "traceback": [
      "\u001b[31m---------------------------------------------------------------------------\u001b[39m",
      "\u001b[31mNameError\u001b[39m                                 Traceback (most recent call last)",
      "\u001b[36mCell\u001b[39m\u001b[36m \u001b[39m\u001b[32mIn[28]\u001b[39m\u001b[32m, line 1\u001b[39m\n\u001b[32m----> \u001b[39m\u001b[32m1\u001b[39m \u001b[38;5;28mprint\u001b[39m(\u001b[43mTemplate\u001b[49m(template).render(get_row=get_row))\n",
      "\u001b[31mNameError\u001b[39m: name 'Template' is not defined"
     ]
    }
   ],
   "source": [
    "print(Template(template).render(get_row=get_row))"
   ]
  },
  {
   "cell_type": "markdown",
   "id": "8beeccfe-0c26-41d0-885f-4d31b538aef8",
   "metadata": {},
   "source": [
    "## Grafting localization"
   ]
  },
  {
   "cell_type": "code",
   "execution_count": 39,
   "id": "205cd957-dc52-40fa-bec4-929fab19e8c9",
   "metadata": {},
   "outputs": [],
   "source": [
    "both_informative, test_downstream = torch.load(ROOT / 'results/grafting_correlations.pt')"
   ]
  },
  {
   "cell_type": "code",
   "execution_count": 40,
   "id": "993eccb5-7f0c-4b78-bdd6-e4f56c3cb9f5",
   "metadata": {},
   "outputs": [],
   "source": [
    "def flatten_data(x, y):\n",
    "    data_list = [\n",
    "        [\n",
    "            {\n",
    "                'x': a.item(),\n",
    "                'y': b.item()\n",
    "            }\n",
    "            for a, b in zip(x.mlps.flatten(), y.mlps.flatten())\n",
    "        ],\n",
    "        [\n",
    "            {\n",
    "                'x': a.item(),\n",
    "                'y': b.item()\n",
    "            }\n",
    "            for a, b in zip(x.attn.flatten(), y.attn.flatten())\n",
    "        ]\n",
    "    ]\n",
    "    return data_list"
   ]
  },
  {
   "cell_type": "code",
   "execution_count": 41,
   "id": "3ede6965-f92a-4f09-826b-f62d64ad8629",
   "metadata": {},
   "outputs": [],
   "source": [
    "inf_down = flatten_data(both_informative, test_downstream)"
   ]
  },
  {
   "cell_type": "code",
   "execution_count": 42,
   "id": "de7c26cd-0c6d-47c9-8000-ad58b7ebd91a",
   "metadata": {},
   "outputs": [],
   "source": [
    "import scipy.stats"
   ]
  },
  {
   "cell_type": "code",
   "execution_count": 43,
   "id": "6f73854c-db91-4f5a-951a-ea07d7cf0eef",
   "metadata": {},
   "outputs": [],
   "source": [
    "def viz_corr(ax, data, title):\n",
    "    df = pd.DataFrame(data).rename(columns={'x': 'Informative', 'y': 'Downstream'})\n",
    "    slope, intercept, r_value, p_value, std_err = scipy.stats.linregress(df['Informative'], df['Downstream'])\n",
    "    sns.regplot(df, x='Informative', y='Downstream', ci=None, ax=ax, marker='.', scatter_kws=dict(s=4.), line_kws=dict(lw=1.5))\n",
    "    ax.set_title(title)\n",
    "    # print(p_value)\n",
    "    ax.text(0.95, 0.95, f'$r^2={r_value**2 : .2f}$', transform=ax.transAxes, \n",
    "        verticalalignment='top', horizontalalignment='right',\n",
    "        fontsize=10\n",
    "    )"
   ]
  },
  {
   "cell_type": "code",
   "execution_count": 44,
   "id": "ca3988da-a4bd-49e2-b649-239ab8158d00",
   "metadata": {},
   "outputs": [
    {
     "data": {
      "image/png": "[encoded data removed]",
      "text/plain": [
       "<Figure size 400x200 with 2 Axes>"
      ]
     },
     "metadata": {},
     "output_type": "display_data"
    }
   ],
   "source": [
    "fig, axs = plt.subplots(1, 2, figsize=(4, 2))\n",
    "viz_corr(axs[0], inf_down[0], 'MLP')\n",
    "viz_corr(axs[1], inf_down[1], 'Attn Heads')\n",
    "fig.tight_layout()\n",
    "plt.savefig(ROOT / 'figures/grafting_localization.pdf', bbox_inches=\"tight\")"
   ]
  },
  {
   "cell_type": "code",
   "execution_count": null,
   "id": "b1e11852",
   "metadata": {},
   "outputs": [],
   "source": []
  }
 ],
 "metadata": {
  "kernelspec": {
   "display_name": ".venv",
   "language": "python",
   "name": "python3"
  },
  "language_info": {
   "codemirror_mode": {
    "name": "ipython",
    "version": 3
   },
   "file_extension": ".py",
   "mimetype": "text/x-python",
   "name": "python",
   "nbconvert_exporter": "python",
   "pygments_lexer": "ipython3",
   "version": "3.11.11"
  }
 },
 "nbformat": 4,
 "nbformat_minor": 5
}
