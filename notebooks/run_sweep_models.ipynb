{
 "cells": [
  {
   "cell_type": "code",
   "execution_count": 1,
   "metadata": {},
   "outputs": [
    {
     "data": {
      "text/html": [
       "\n",
       "            <div id=\"shsQPo\"></div>\n",
       "            <script type=\"text/javascript\" data-lets-plot-script=\"library\">\n",
       "                if(!window.letsPlotCallQueue) {\n",
       "                    window.letsPlotCallQueue = [];\n",
       "                }; \n",
       "                window.letsPlotCall = function(f) {\n",
       "                    window.letsPlotCallQueue.push(f);\n",
       "                };\n",
       "                (function() {\n",
       "                    var script = document.createElement(\"script\");\n",
       "                    script.type = \"text/javascript\";\n",
       "                    script.src = \"https://cdn.jsdelivr.net/gh/JetBrains/lets-plot@v4.6.2/js-package/distr/lets-plot.min.js\";\n",
       "                    script.onload = function() {\n",
       "                        window.letsPlotCall = function(f) {f();};\n",
       "                        window.letsPlotCallQueue.forEach(function(f) {f();});\n",
       "                        window.letsPlotCallQueue = [];\n",
       "                        \n",
       "                    };\n",
       "                    script.onerror = function(event) {\n",
       "                        window.letsPlotCall = function(f) {};    // noop\n",
       "                        window.letsPlotCallQueue = [];\n",
       "                        var div = document.createElement(\"div\");\n",
       "                        div.style.color = 'darkred';\n",
       "                        div.textContent = 'Error loading Lets-Plot JS';\n",
       "                        document.getElementById(\"shsQPo\").appendChild(div);\n",
       "                    };\n",
       "                    var e = document.getElementById(\"shsQPo\");\n",
       "                    e.appendChild(script);\n",
       "                })()\n",
       "            </script>\n",
       "            "
      ]
     },
     "metadata": {},
     "output_type": "display_data"
    }
   ],
   "source": [
    "import os\n",
    "import re\n",
    "import yaml\n",
    "\n",
    "import numpy as np\n",
    "import torch\n",
    "import torch.nn.functional as F\n",
    "import logging\n",
    "from exults.log_utils import Logger\n",
    "\n",
    "from extractive_structures import ROOT\n",
    "from pathlib import Path\n",
    "import exults.run_manager as rm\n",
    "import json\n",
    "\n",
    "import subprocess\n",
    "\n",
    "from exults.slurm_utils import JobsWatcher\n",
    "\n",
    "import exults.plot_utils as pu\n",
    "\n",
    "import pandas as pd\n",
    "import numpy as np\n",
    "import lets_plot as lp\n",
    "lp.LetsPlot.setup_html()\n",
    "\n",
    "from exults.tensorial import Long"
   ]
  },
  {
   "cell_type": "code",
   "execution_count": 2,
   "metadata": {},
   "outputs": [],
   "source": [
    "expts_root = Path(ROOT) / 'paper_experiments'\n",
    "output_root = Path(ROOT) / 'results'"
   ]
  },
  {
   "cell_type": "code",
   "execution_count": 9,
   "metadata": {},
   "outputs": [],
   "source": [
    "def run_sbatch(config_path, num_devices, slurm_path, node, preassign=False, dry_run=False):\n",
    "    if preassign:\n",
    "        output_path = rm.get_run_dir(\n",
    "            config_path=config_path,\n",
    "            runs_root=output_root,\n",
    "            experiments_root=expts_root,\n",
    "        )\n",
    "        print(f'Preassigning output dir to {output_path}')\n",
    "        preassign_dict = {'RM_OUTPUT_DIR': str(output_path)}\n",
    "    else:\n",
    "        preassign_dict = {}\n",
    "    \n",
    "    flags = [ f'--gres=gpu:{num_devices}', f'-w {node}']\n",
    "    slurm_cmd = ['sbatch', *flags , slurm_path]\n",
    "    if dry_run:\n",
    "        print(f'CONFIG_FILE={config_path} ' + ' '.join(slurm_cmd))\n",
    "        return\n",
    "    try:\n",
    "        slurm_output = subprocess.run(\n",
    "            slurm_cmd, \n",
    "            env={**os.environ, 'CONFIG_FILE': config_path, **preassign_dict}, \n",
    "            capture_output=True, \n",
    "            check=True\n",
    "        )\n",
    "    except subprocess.CalledProcessError as e:\n",
    "        print(e.stdout)\n",
    "        print(e.stderr)\n",
    "        raise e\n",
    "    print(' '.join(slurm_cmd), slurm_output.stdout, slurm_output.stderr)\n",
    "    string = slurm_output.stdout\n",
    "    if not isinstance(string, str):\n",
    "        string = string.decode()\n",
    "    job_id = re.search(r\"job (?P<id>[0-9]+)\", string).group(\"id\")\n",
    "    if preassign:\n",
    "        return job_id, output_path\n",
    "    else:\n",
    "        return job_id\n",
    "\n",
    "def get_last_output(cfg_path, _output_root=None, _expts_root=None):\n",
    "    if _output_root is None:\n",
    "        _output_root = output_root\n",
    "    if _expts_root is None:\n",
    "        _expts_root = expts_root\n",
    "    parent_dir = Path(rm.get_run_dir_parent(cfg_path, _output_root, _expts_root))\n",
    "    dirs = [d for d in os.listdir(parent_dir)  if os.path.isdir(parent_dir / d)]\n",
    "    success_dir = [d for d in dirs if 'done.out' in os.listdir(parent_dir / d)]\n",
    "    max_run = max(int(d) for d in dirs)\n",
    "    max_success = max(int(d) for d in success_dir)\n",
    "    if max_run != max_success:\n",
    "        print(f'Warning: latest run {max_run} of {cfg_path} is not successful. Falling back to {max_success}')\n",
    "    return parent_dir / str(max_success)\n",
    "        \n",
    "    "
   ]
  },
  {
   "cell_type": "code",
   "execution_count": 4,
   "metadata": {},
   "outputs": [],
   "source": [
    "model_tags = ['gemma_27b', 'llama_1b']"
   ]
  },
  {
   "cell_type": "code",
   "execution_count": 5,
   "metadata": {},
   "outputs": [
    {
     "name": "stderr",
     "output_type": "stream",
     "text": [
      "/data/fjiahai/extractive_structures/.venv/lib/python3.11/site-packages/tqdm/auto.py:21: TqdmWarning: IProgress not found. Please update jupyter and ipywidgets. See https://ipywidgets.readthedocs.io/en/stable/user_install.html\n",
      "  from .autonotebook import tqdm as notebook_tqdm\n",
      "/data/fjiahai/extractive_structures/.venv/lib/python3.11/site-packages/transformers/utils/hub.py:105: FutureWarning: Using `TRANSFORMERS_CACHE` is deprecated and will be removed in v5 of Transformers. Use `HF_HOME` instead.\n",
      "  warnings.warn(\n"
     ]
    }
   ],
   "source": [
    "import extractive_structures.scripts.eval_ocr as eval_ocr"
   ]
  },
  {
   "cell_type": "code",
   "execution_count": 6,
   "metadata": {},
   "outputs": [],
   "source": [
    "lrs = [1e-6, 3e-6, 1e-5, 3e-5]\n",
    "epochses = [4, 8, 12, 16]\n",
    "cfgs = []\n",
    "for lr in lrs:\n",
    "    for epochs in epochses:\n",
    "        for model_tag in model_tags:\n",
    "            cfg = eval_ocr.Cfg(\n",
    "                model_tag=model_tag,\n",
    "                lr=lr,\n",
    "                epochs=epochs,\n",
    "                seeds=[0, 1, 2, 3, 4],\n",
    "                half_precision=False\n",
    "            )\n",
    "            cfg_path = expts_root / 'sweep_all' / f'full_{model_tag}_{lr}_{epochs}.yaml'\n",
    "            cfg.save(\n",
    "                cfg_path,\n",
    "                meta_kwargs=dict(_experiments_root=str(expts_root), _output_root=str(output_root))\n",
    "            )\n",
    "            cfgs.append({\n",
    "                'lr': lr,\n",
    "                'model_tag': model_tag, \n",
    "                'epochs': epochs,\n",
    "                'cfg_path': cfg_path\n",
    "            })"
   ]
  },
  {
   "cell_type": "code",
   "execution_count": 12,
   "metadata": {},
   "outputs": [
    {
     "name": "stdout",
     "output_type": "stream",
     "text": [
      "b''\n",
      "b'sbatch: error: invalid partition specified:  jsteinhardt\\nsbatch: error: Batch job submission failed: Invalid partition name specified\\n'\n"
     ]
    },
    {
     "ename": "CalledProcessError",
     "evalue": "Command '['sbatch', '--gres=gpu:4', '-w balrog', '-p jsteinhardt', '/data/fjiahai/extractive_structures/slurm/eval_ocr.sh']' returned non-zero exit status 1.",
     "output_type": "error",
     "traceback": [
      "\u001b[31m---------------------------------------------------------------------------\u001b[39m",
      "\u001b[31mCalledProcessError\u001b[39m                        Traceback (most recent call last)",
      "\u001b[36mCell\u001b[39m\u001b[36m \u001b[39m\u001b[32mIn[12]\u001b[39m\u001b[32m, line 10\u001b[39m\n\u001b[32m      8\u001b[39m     num_devices = \u001b[32m8\u001b[39m\n\u001b[32m      9\u001b[39m     node = \u001b[33m'\u001b[39m\u001b[33msaruman\u001b[39m\u001b[33m'\u001b[39m\n\u001b[32m---> \u001b[39m\u001b[32m10\u001b[39m job_id = \u001b[43mrun_sbatch\u001b[49m\u001b[43m(\u001b[49m\n\u001b[32m     11\u001b[39m \u001b[43m    \u001b[49m\u001b[43mcfg\u001b[49m\u001b[43m[\u001b[49m\u001b[33;43m'\u001b[39;49m\u001b[33;43mcfg_path\u001b[39;49m\u001b[33;43m'\u001b[39;49m\u001b[43m]\u001b[49m\u001b[43m,\u001b[49m\n\u001b[32m     12\u001b[39m \u001b[43m    \u001b[49m\u001b[43mnum_devices\u001b[49m\u001b[43m=\u001b[49m\u001b[43mnum_devices\u001b[49m\u001b[43m,\u001b[49m\u001b[43m \u001b[49m\n\u001b[32m     13\u001b[39m \u001b[43m    \u001b[49m\u001b[43mnode\u001b[49m\u001b[43m=\u001b[49m\u001b[43mnode\u001b[49m\u001b[43m,\u001b[49m\n\u001b[32m     14\u001b[39m \u001b[43m    \u001b[49m\u001b[43mslurm_path\u001b[49m\u001b[43m=\u001b[49m\u001b[38;5;28;43mstr\u001b[39;49m\u001b[43m(\u001b[49m\u001b[43mROOT\u001b[49m\u001b[43m/\u001b[49m\u001b[33;43m'\u001b[39;49m\u001b[33;43mslurm/eval_ocr.sh\u001b[39;49m\u001b[33;43m'\u001b[39;49m\u001b[43m)\u001b[49m\u001b[43m,\u001b[49m\n\u001b[32m     15\u001b[39m \u001b[43m    \u001b[49m\u001b[43mdry_run\u001b[49m\u001b[43m=\u001b[49m\u001b[38;5;28;43;01mFalse\u001b[39;49;00m\n\u001b[32m     16\u001b[39m \u001b[43m\u001b[49m\u001b[43m)\u001b[49m\n\u001b[32m     17\u001b[39m jobs.append({** cfg, \u001b[33m'\u001b[39m\u001b[33mjob_id\u001b[39m\u001b[33m'\u001b[39m: job_id})\n",
      "\u001b[36mCell\u001b[39m\u001b[36m \u001b[39m\u001b[32mIn[9]\u001b[39m\u001b[32m, line 28\u001b[39m, in \u001b[36mrun_sbatch\u001b[39m\u001b[34m(config_path, num_devices, slurm_path, node, preassign, dry_run)\u001b[39m\n\u001b[32m     26\u001b[39m     \u001b[38;5;28mprint\u001b[39m(e.stdout)\n\u001b[32m     27\u001b[39m     \u001b[38;5;28mprint\u001b[39m(e.stderr)\n\u001b[32m---> \u001b[39m\u001b[32m28\u001b[39m     \u001b[38;5;28;01mraise\u001b[39;00m e\n\u001b[32m     29\u001b[39m \u001b[38;5;28mprint\u001b[39m(\u001b[33m'\u001b[39m\u001b[33m \u001b[39m\u001b[33m'\u001b[39m.join(slurm_cmd), slurm_output.stdout, slurm_output.stderr)\n\u001b[32m     30\u001b[39m string = slurm_output.stdout\n",
      "\u001b[36mCell\u001b[39m\u001b[36m \u001b[39m\u001b[32mIn[9]\u001b[39m\u001b[32m, line 19\u001b[39m, in \u001b[36mrun_sbatch\u001b[39m\u001b[34m(config_path, num_devices, slurm_path, node, preassign, dry_run)\u001b[39m\n\u001b[32m     17\u001b[39m     \u001b[38;5;28;01mreturn\u001b[39;00m\n\u001b[32m     18\u001b[39m \u001b[38;5;28;01mtry\u001b[39;00m:\n\u001b[32m---> \u001b[39m\u001b[32m19\u001b[39m     slurm_output = \u001b[43msubprocess\u001b[49m\u001b[43m.\u001b[49m\u001b[43mrun\u001b[49m\u001b[43m(\u001b[49m\n\u001b[32m     20\u001b[39m \u001b[43m        \u001b[49m\u001b[43mslurm_cmd\u001b[49m\u001b[43m,\u001b[49m\u001b[43m \u001b[49m\n\u001b[32m     21\u001b[39m \u001b[43m        \u001b[49m\u001b[43menv\u001b[49m\u001b[43m=\u001b[49m\u001b[43m{\u001b[49m\u001b[43m*\u001b[49m\u001b[43m*\u001b[49m\u001b[43mos\u001b[49m\u001b[43m.\u001b[49m\u001b[43menviron\u001b[49m\u001b[43m,\u001b[49m\u001b[43m \u001b[49m\u001b[33;43m'\u001b[39;49m\u001b[33;43mCONFIG_FILE\u001b[39;49m\u001b[33;43m'\u001b[39;49m\u001b[43m:\u001b[49m\u001b[43m \u001b[49m\u001b[43mconfig_path\u001b[49m\u001b[43m,\u001b[49m\u001b[43m \u001b[49m\u001b[43m*\u001b[49m\u001b[43m*\u001b[49m\u001b[43mpreassign_dict\u001b[49m\u001b[43m}\u001b[49m\u001b[43m,\u001b[49m\u001b[43m \u001b[49m\n\u001b[32m     22\u001b[39m \u001b[43m        \u001b[49m\u001b[43mcapture_output\u001b[49m\u001b[43m=\u001b[49m\u001b[38;5;28;43;01mTrue\u001b[39;49;00m\u001b[43m,\u001b[49m\u001b[43m \u001b[49m\n\u001b[32m     23\u001b[39m \u001b[43m        \u001b[49m\u001b[43mcheck\u001b[49m\u001b[43m=\u001b[49m\u001b[38;5;28;43;01mTrue\u001b[39;49;00m\n\u001b[32m     24\u001b[39m \u001b[43m    \u001b[49m\u001b[43m)\u001b[49m\n\u001b[32m     25\u001b[39m \u001b[38;5;28;01mexcept\u001b[39;00m subprocess.CalledProcessError \u001b[38;5;28;01mas\u001b[39;00m e:\n\u001b[32m     26\u001b[39m     \u001b[38;5;28mprint\u001b[39m(e.stdout)\n",
      "\u001b[36mFile \u001b[39m\u001b[32m~/.local/share/uv/python/cpython-3.11.11-linux-x86_64-gnu/lib/python3.11/subprocess.py:571\u001b[39m, in \u001b[36mrun\u001b[39m\u001b[34m(input, capture_output, timeout, check, *popenargs, **kwargs)\u001b[39m\n\u001b[32m    569\u001b[39m     retcode = process.poll()\n\u001b[32m    570\u001b[39m     \u001b[38;5;28;01mif\u001b[39;00m check \u001b[38;5;129;01mand\u001b[39;00m retcode:\n\u001b[32m--> \u001b[39m\u001b[32m571\u001b[39m         \u001b[38;5;28;01mraise\u001b[39;00m CalledProcessError(retcode, process.args,\n\u001b[32m    572\u001b[39m                                  output=stdout, stderr=stderr)\n\u001b[32m    573\u001b[39m \u001b[38;5;28;01mreturn\u001b[39;00m CompletedProcess(process.args, retcode, stdout, stderr)\n",
      "\u001b[31mCalledProcessError\u001b[39m: Command '['sbatch', '--gres=gpu:4', '-w balrog', '-p jsteinhardt', '/data/fjiahai/extractive_structures/slurm/eval_ocr.sh']' returned non-zero exit status 1."
     ]
    }
   ],
   "source": [
    "jobs = []\n",
    "for cfg in cfgs:\n",
    "    if cfg['model_tag'] == 'llama_1b':\n",
    "        num_devices = 4\n",
    "        node = 'balrog'\n",
    "    else:\n",
    "        continue\n",
    "        num_devices = 8\n",
    "        node = 'saruman'\n",
    "    job_id = run_sbatch(\n",
    "        cfg['cfg_path'],\n",
    "        num_devices=num_devices, \n",
    "        node=node,\n",
    "        slurm_path=str(ROOT/'slurm/eval_ocr.sh'),\n",
    "        dry_run=False\n",
    "    )\n",
    "    jobs.append({** cfg, 'job_id': job_id})"
   ]
  },
  {
   "cell_type": "code",
   "execution_count": null,
   "metadata": {},
   "outputs": [],
   "source": []
  }
 ],
 "metadata": {
  "kernelspec": {
   "display_name": ".venv",
   "language": "python",
   "name": "python3"
  },
  "language_info": {
   "codemirror_mode": {
    "name": "ipython",
    "version": 3
   },
   "file_extension": ".py",
   "mimetype": "text/x-python",
   "name": "python",
   "nbconvert_exporter": "python",
   "pygments_lexer": "ipython3",
   "version": "3.11.11"
  }
 },
 "nbformat": 4,
 "nbformat_minor": 2
}
